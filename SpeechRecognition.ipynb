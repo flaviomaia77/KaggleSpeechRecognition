{
  "nbformat": 4,
  "nbformat_minor": 0,
  "metadata": {
    "colab": {
      "name": "AudioProject.ipynb",
      "provenance": [],
      "collapsed_sections": [
        "-uh2lumGuStn",
        "qNOJgVuwEMiN",
        "56hMOkXNEx13",
        "AJUFPmfPEUsf",
        "9bTeGAvVFHYg",
        "HCVzTLzTEhxM",
        "7VHAVx_76_Di",
        "mbHbO-bvD8F5",
        "SvOGnPekD-ZB",
        "POjVrjBnEEhM",
        "Z7gZdJsgYCp6",
        "GeNoGX8EgJbU",
        "hl0Evgm--ZFo",
        "BNaETCi9z8Hy",
        "NF-HeQE-p0nW",
        "0Z0Qivu-PGir",
        "VROFirkQNoWG",
        "AEXQ8pDxXkrz",
        "RO-XBo-uBG86",
        "65_mwx249-Im"
      ],
      "toc_visible": true
    },
    "kernelspec": {
      "name": "python3",
      "display_name": "Python 3"
    },
    "language_info": {
      "name": "python"
    },
    "widgets": {
      "application/vnd.jupyter.widget-state+json": {}
    }
  },
  "cells": [
    {
      "cell_type": "code",
      "metadata": {
        "id": "lzGOPaVlvliK",
        "colab": {
          "base_uri": "https://localhost:8080/"
        },
        "outputId": "9d68169f-bf15-4d3c-88fb-c91e464e33e6"
      },
      "source": [
        "from google.colab import drive\n",
        "drive.mount('/content/drive')"
      ],
      "execution_count": null,
      "outputs": [
        {
          "output_type": "stream",
          "text": [
            "Mounted at /content/drive\n"
          ],
          "name": "stdout"
        }
      ]
    },
    {
      "cell_type": "markdown",
      "metadata": {
        "id": "9esH_nSywfRL"
      },
      "source": [
        "# 0. Requirements"
      ]
    },
    {
      "cell_type": "code",
      "metadata": {
        "id": "k-21r1Yalm7d"
      },
      "source": [
        "!pip install simpleaudio\n",
        "!pip install ipapy\n",
        "!pip install torchaudio\n",
        "!pip3 install nfnets-pytorch\n",
        "!pip install git+https://github.com/benjs/nfnets_pytorch\n",
        "!pip install audiomentations"
      ],
      "execution_count": null,
      "outputs": []
    },
    {
      "cell_type": "code",
      "metadata": {
        "id": "D740M-oKlXjl"
      },
      "source": [
        "# Torch\n",
        "import torch\n",
        "import torchaudio as ta\n",
        "import torch.nn.functional as F\n",
        "import torchvision as tv\n",
        "\n",
        "# Math\n",
        "import numpy as np\n",
        "import math\n",
        "import random\n",
        "\n",
        "# Data Augmentation\n",
        "import audiomentations\n",
        "\n",
        "# Librosa\n",
        "import librosa\n",
        "\n",
        "# NF-nets\n",
        "from nfnets import WSConv2D\n",
        "from nfnets import pretrained_nfnet\n",
        "import nfnets\n",
        "\n",
        "# Utils\n",
        "import os\n",
        "import matplotlib.pyplot as plt\n",
        "import copy\n",
        "from tqdm.notebook import tqdm, trange\n",
        "from IPython.display import Audio\n",
        "from IPython.core.display import display\n",
        "\n",
        "# IPAPY\n",
        "import ipapy\n",
        "from ipapy import UNICODE_TO_IPA\n",
        "from ipapy import is_valid_ipa\n",
        "from ipapy.ipachar import IPAConsonant\n",
        "from ipapy.ipachar import IPAVowel\n",
        "from ipapy.ipastring import IPAString\n"
      ],
      "execution_count": null,
      "outputs": []
    },
    {
      "cell_type": "code",
      "metadata": {
        "id": "Ro_X0VXOliYt"
      },
      "source": [
        "path = './drive/MyDrive/data/'\n",
        "os.chdir(path)"
      ],
      "execution_count": null,
      "outputs": []
    },
    {
      "cell_type": "markdown",
      "metadata": {
        "id": "-uh2lumGuStn"
      },
      "source": [
        "# 1. Datasets and DataLoaders"
      ]
    },
    {
      "cell_type": "markdown",
      "metadata": {
        "id": "qNOJgVuwEMiN"
      },
      "source": [
        "## AudioFolder + Loaded + SelectedSubset (and Transforms)"
      ]
    },
    {
      "cell_type": "code",
      "metadata": {
        "id": "q8EeA5fUne6E"
      },
      "source": [
        "tr = torch.nn.Sequential(\n",
        "    ta.transforms.MelSpectrogram(n_fft=600, n_mels=128, win_length=200),\n",
        "    ta.transforms.AmplitudeToDB(),\n",
        ")"
      ],
      "execution_count": null,
      "outputs": []
    },
    {
      "cell_type": "code",
      "metadata": {
        "id": "JxkUNNNW_UTd"
      },
      "source": [
        "class AudioFolder(torch.utils.data.Dataset):\n",
        "  def __init__(self, path, tr, pad_to=161):\n",
        "    super(AudioFolder, self).__init__()\n",
        "    self.path = path\n",
        "    self.classes_names = sorted(os.listdir(path))\n",
        "    self.tr   = tr\n",
        "\n",
        "    self.files = sum([[path+n+'/'+f for f in sorted(os.listdir(path+n))] for n in self.classes_names], [])\n",
        "    self.classes = torch.cat([i*torch.ones(len(os.listdir(path+n))) for i,n in enumerate(self.classes_names)])\n",
        "\n",
        "    self.len = len(self.files)\n",
        "\n",
        "    self.pad_to = pad_to\n",
        "\n",
        "  def __getitem__(self, idx):\n",
        "\n",
        "    # Index\n",
        "    loaded = ta.load(self.files[idx])[0]\n",
        "    assert loaded.shape[0] == 1\n",
        "\n",
        "    # Transforming\n",
        "    transformed = self.tr(loaded)\n",
        "\n",
        "    # Padding\n",
        "    n = transformed.shape[2]\n",
        "    right = (self.pad_to-n)//2\n",
        "    left = self.pad_to - n - right\n",
        "    padded = F.pad(transformed, (right, left), mode='reflect').squeeze(0)\n",
        "\n",
        "    return padded, self.classes[idx]\n",
        "\n",
        "  def __len__(self):\n",
        "    return self.len"
      ],
      "execution_count": null,
      "outputs": []
    },
    {
      "cell_type": "code",
      "metadata": {
        "id": "kMjynKplLz4D"
      },
      "source": [
        "class LoadedDataset(torch.utils.data.Dataset):\n",
        "  def __init__(self, ds):\n",
        "\n",
        "    # Loading\n",
        "    print(\"Preparing...\")\n",
        "    dl = torch.utils.data.DataLoader(ds, batch_size=512)\n",
        "\n",
        "    print(\"Loading...\")\n",
        "    Xs, ys = [], []\n",
        "    \n",
        "    for X,y in tqdm(dl):\n",
        "      Xs.append(X)\n",
        "      ys.append(y)\n",
        "    print(\"Loaded!\")\n",
        "\n",
        "    # Connect\n",
        "    self.X = torch.cat(Xs)\n",
        "    self.y = torch.cat(ys)\n",
        "\n",
        "    # Params\n",
        "    self.len = self.X.shape[0]\n",
        "\n",
        "  def __len__(self):\n",
        "    return self.len\n",
        "    \n",
        "  def __getitem__(self, idx):\n",
        "    return self.X[idx], self.y[idx]"
      ],
      "execution_count": null,
      "outputs": []
    },
    {
      "cell_type": "code",
      "metadata": {
        "id": "FVnA2BZyNg85"
      },
      "source": [
        "# ds = AudioFolder('./train/audio/', tr)\n",
        "# lds = LoadedDataset(ds)\n",
        "# torch.save(lds.X, './X.pkl')\n",
        "# torch.save(lds.y, './y.pkl')"
      ],
      "execution_count": null,
      "outputs": []
    },
    {
      "cell_type": "code",
      "metadata": {
        "id": "moHo3P-Ytjff"
      },
      "source": [
        "class SavedDataset(torch.utils.data.Dataset):\n",
        "  def __init__(self, path='./'):\n",
        "\n",
        "    # Loading\n",
        "    print(\"Loading...\")\n",
        "    self.X = torch.load(path + 'X.pkl').unsqueeze(1)\n",
        "    self.y = torch.load(path + 'y.pkl')\n",
        "    print(\"Loaded!\")\n",
        "    \n",
        "    # Params\n",
        "    self.len = self.X.shape[0]\n",
        "\n",
        "  def __len__(self):\n",
        "    return self.len\n",
        "    \n",
        "  def __getitem__(self, idx):\n",
        "    return self.X[idx], self.y[idx]"
      ],
      "execution_count": null,
      "outputs": []
    },
    {
      "cell_type": "code",
      "metadata": {
        "id": "0YF3sBgaxvBk"
      },
      "source": [
        "# (sds.y == torch.Tensor([[4, 8, 11, 14, 15, 16, 18, 22, 26, 28]]).T).any(0)"
      ],
      "execution_count": null,
      "outputs": []
    },
    {
      "cell_type": "code",
      "metadata": {
        "id": "DRIIVyr3Tgdm"
      },
      "source": [
        ""
      ],
      "execution_count": null,
      "outputs": []
    },
    {
      "cell_type": "code",
      "metadata": {
        "id": "SBnZFeLabVI6"
      },
      "source": [
        "class SelectedClassesDataset(torch.utils.data.Dataset):\n",
        "  def __init__(self, ds=None, cl=[4, 8, 11, 14, 15, 16, 18, 22, 26, 28], path='./'):\n",
        "    super(SelectedClassesDataset, self).__init__()\n",
        "    self.cl = cl\n",
        "    if not ds:\n",
        "      print(\"Loading...\")\n",
        "      self.X = torch.load(path + 'X.pkl').unsqueeze(1)\n",
        "      self.y = torch.load(path + 'y.pkl')\n",
        "      print(\"Loaded!\")\n",
        "    else:\n",
        "      self.X = ds.X\n",
        "      self.y = ds.y\n",
        "\n",
        "    ind = (sds.y == torch.Tensor([cl]).T).any(0)\n",
        "    \n",
        "    self.X = self.X[ind]\n",
        "    self.y = self.y[ind]\n",
        "\n",
        "    self.len = self.X.shape[0]\n",
        "\n",
        "  def __len__(self):\n",
        "    return self.len\n",
        "    \n",
        "  def __getitem__(self, idx):\n",
        "    return self.X[idx], self.y[idx]"
      ],
      "execution_count": null,
      "outputs": []
    },
    {
      "cell_type": "code",
      "metadata": {
        "id": "wiC2O77X1RX7"
      },
      "source": [
        "class AllDataset(torch.utils.data.Dataset):\n",
        "  def __init__(self, ss, ul, unknown_size=2000, silence_size=2000, path='./'):\n",
        "    super(AllDataset, self).__init__()\n",
        "\n",
        "    self.ss = ss\n",
        "    self.ul = ul\n",
        "\n",
        "    # Loading\n",
        "    print(\"Loading...\")\n",
        "    self.X = torch.load(path + 'X.pkl').unsqueeze(1)\n",
        "    self.y = torch.load(path + 'y.pkl').long()\n",
        "    print(\"Loaded!\")\n",
        "\n",
        "    # Remap\n",
        "    ind = [4, 8, 11, 14, 15, 16, 18, 22, 26, 28]\n",
        "    j = 0\n",
        "    new_class = []\n",
        "    for i in range(30):\n",
        "      if i in ind:\n",
        "        new_class.append(j)\n",
        "        j += 1\n",
        "      else:\n",
        "        new_class.append(11)\n",
        "\n",
        "    for i in range(len(self.y)):\n",
        "      self.y[i] = new_class[self.y[i]]\n",
        "\n",
        "    # Add space\n",
        "    self.silence_size = silence_size\n",
        "    self.silence_start = self.X.shape[0]\n",
        "    self.unknown_size = unknown_size\n",
        "    self.unknown_start = self.silence_start + silence_size\n",
        "    \n",
        "\n",
        "    self.X = torch.cat([self.X, torch.zeros(unknown_size + silence_size, 1, 128, 161)])\n",
        "    self.y = torch.cat([self.y,\n",
        "                        10*torch.ones(silence_size).long(),\n",
        "                        11*torch.ones(silence_size).long()]).long()\n",
        "\n",
        "    # Silence:\n",
        "    self.resample_silence()\n",
        "\n",
        "    # Unknown Generated:\n",
        "    self.resample_unknown()\n",
        "    \n",
        "    # Probabilities for sampling:\n",
        "    self.prob = torch.ones_like(self.y).float()\n",
        "    for i in range(12):\n",
        "      self.prob[self.y == i] *= 1/12/(self.y == i).sum()\n",
        "    \n",
        "    # Params\n",
        "    self.len = self.X.shape[0]\n",
        "\n",
        "  def resample_silence(self):\n",
        "    self.X[self.silence_start:self.silence_start+self.silence_size] = torch.cat([self.ss.sample() for _ in range(self.silence_size)]).unsqueeze(1)\n",
        "\n",
        "  def resample_unknown(self):\n",
        "    self.X[self.unknown_start:self.unknown_start+self.unknown_size] = torch.cat([self.ul.sample() for _ in range(self.unknown_size)]).unsqueeze(1)\n",
        "\n",
        "  def __len__(self):\n",
        "    return self.len\n",
        "    \n",
        "  def __getitem__(self, idx):\n",
        "    return self.X[idx], self.y[idx]"
      ],
      "execution_count": null,
      "outputs": []
    },
    {
      "cell_type": "markdown",
      "metadata": {
        "id": "56hMOkXNEx13"
      },
      "source": [
        "## Superme Dataset"
      ]
    },
    {
      "cell_type": "code",
      "metadata": {
        "id": "kGzoTmPkE1Qh"
      },
      "source": [
        "class UnknownSampler:\n",
        "  def __init__(self):\n",
        "    self.unknown_path = './train/unknown_pt/'\n",
        "    self.seknown_path = './train/semiknown_pt/'\n",
        "\n",
        "    self.unknown_files = os.listdir(self.unknown_path)\n",
        "    self.seknown_files = os.listdir(self.seknown_path)\n",
        "\n",
        "  def get_unknown(self, n=2380):\n",
        "    unknowns = []\n",
        "    for i in range(math.ceil(n/128)):\n",
        "      unknowns.append(torch.load(self.unknown_path + random.choice(self.unknown_files)))\n",
        "    # unknowns[-1] = unknowns[-1][0:n%128]\n",
        "    return torch.cat(unknowns)[0:n].unsqueeze(1)\n",
        "\n",
        "  def get_seknown(self, n=2380):\n",
        "      seknown = []\n",
        "      for i in range(math.ceil(n/2380)):\n",
        "        seknown.append(torch.load(self.seknown_path + random.choice(self.seknown_files)))\n",
        "      return torch.cat(seknown)[0:n]\n",
        "  \n",
        "  def sample(self, n=2380, mode='seknown'):\n",
        "    if mode == 'seknown':\n",
        "      return self.get_seknown(n)\n",
        "    if mode == 'unknown':\n",
        "      return self.get_unknown(n)\n",
        "    if mode == 'mix':\n",
        "      return torch.cat([self.get_seknown(n//2), self.get_unknown(n - n//2)]) "
      ],
      "execution_count": null,
      "outputs": []
    },
    {
      "cell_type": "code",
      "metadata": {
        "id": "qoLLJR2mNSGb"
      },
      "source": [
        "class SupremeDataset(torch.utils.data.Dataset):\n",
        "  def __init__(self):\n",
        "    super(SupremeDataset, self).__init__()\n",
        "    self.X = torch.load('./XSU.pt')\n",
        "    self.y = torch.load('./ySU.pt')\n",
        "\n",
        "    # For resampling\n",
        "    self.silence_ind = self.y == 10\n",
        "    self.unknown_ind = self.y == 11\n",
        "    \n",
        "    # Silence\n",
        "    self.ss = SilenceSampler()\n",
        "\n",
        "    # Unknowns\n",
        "    self.us = UnknownSampler()\n",
        "\n",
        "    # Length\n",
        "    self.len = self.X.shape[0]\n",
        "\n",
        "  def resample_silence(self):\n",
        "    self.X[self.silence_ind] = self.ss.sample(self.silence_ind.sum())\n",
        "\n",
        "  def resample_unknown(self, mode='seknown'):\n",
        "    self.X[self.unknown_ind] = self.us.sample(self.unknown_ind.sum(), mode)\n",
        "\n",
        "  def __getitem__(self, idx):\n",
        "    return self.X[idx], self.y[idx]\n",
        "  def __len__(self):\n",
        "    return self.len"
      ],
      "execution_count": null,
      "outputs": []
    },
    {
      "cell_type": "code",
      "metadata": {
        "id": "htljrgJZTb21"
      },
      "source": [
        ""
      ],
      "execution_count": null,
      "outputs": []
    },
    {
      "cell_type": "code",
      "metadata": {
        "id": "kNmwWaHneomV"
      },
      "source": [
        ""
      ],
      "execution_count": null,
      "outputs": []
    },
    {
      "cell_type": "code",
      "metadata": {
        "id": "YF4Y0O58Vk18"
      },
      "source": [
        ""
      ],
      "execution_count": null,
      "outputs": []
    },
    {
      "cell_type": "code",
      "metadata": {
        "id": "zZrJ31W2XMfF"
      },
      "source": [
        ""
      ],
      "execution_count": null,
      "outputs": []
    },
    {
      "cell_type": "code",
      "metadata": {
        "id": "N6tE8G8hXGYy"
      },
      "source": [
        ""
      ],
      "execution_count": null,
      "outputs": []
    },
    {
      "cell_type": "markdown",
      "metadata": {
        "id": "AJUFPmfPEUsf"
      },
      "source": [
        "## PlayAudio Util"
      ]
    },
    {
      "cell_type": "code",
      "metadata": {
        "id": "0TM4qniB5-br"
      },
      "source": [
        "class PlayAudio:\n",
        "  def __init__(self):\n",
        "    self.revtr = torch.nn.Sequential(\n",
        "        ta.transforms.InverseMelScale(301, n_mels=128),\n",
        "        ta.transforms.GriffinLim(n_fft=600, win_length=200)\n",
        "    )\n",
        "  def save_spect(self, path, sp):\n",
        "    # ta.save(path, self.revtr((10**(sp/3)).sqrt()), sample_rate=16000)\n",
        "    ta.save(path, self.revtr(librosa.db_to_amplitude(sp)), sample_rate=16000)\n",
        "  def playsound(self, path):\n",
        "    display(Audio(path, autoplay=True))\n",
        "  def play_spect(self, sp):\n",
        "    self.save_spect('./spect.wav', sp)\n",
        "    self.playsound('./spect.wav')\n",
        "PA = PlayAudio()"
      ],
      "execution_count": null,
      "outputs": []
    },
    {
      "cell_type": "markdown",
      "metadata": {
        "id": "9bTeGAvVFHYg"
      },
      "source": [
        "## Silence"
      ]
    },
    {
      "cell_type": "code",
      "metadata": {
        "id": "WkWgbx97FGcz"
      },
      "source": [
        "class SilenceSampler:\n",
        "  def __init__(self,\n",
        "               files=['./train/_background_noise_/' + s for s in os.listdir('./train/_background_noise_/') if '.wav' == s[-4:]],\n",
        "               rng=range(-10, 10)):\n",
        "    \n",
        "    self.samples = [tr(ta.load(f)[0]) for f in files]\n",
        "    for i in range(len(self.samples)):\n",
        "      self.samples[i] = self.samples[i] - self.samples[i].mean() - 47\n",
        "    self.range = rng\n",
        "\n",
        "  def _sample(self):\n",
        "    sample = random.choice(self.samples)\n",
        "    pls    = random.choice(range(sample.shape[2] - 170))\n",
        "    return sample[:,:,pls:pls+161] + random.choice(self.range)\n",
        "  \n",
        "  def sample(self, n=2380):\n",
        "    return torch.cat([self._sample() for _ in range(n)]).unsqueeze(1)"
      ],
      "execution_count": null,
      "outputs": []
    },
    {
      "cell_type": "code",
      "metadata": {
        "id": "tmoRwYdbviPu"
      },
      "source": [
        "class SilenceGenerated:\n",
        "  def __init__(self, files=None, batch_size=10, n=100, rng=range(-10, 10)):\n",
        "\n",
        "    if files is None:\n",
        "      files = ['./train/_background_noise_/' + s for s in os.listdir('./train/_background_noise_/') if '.wav' == s[-4:]]\n",
        "\n",
        "    self.samples = [tr(ta.load(f)[0]) for f in files]\n",
        "    for i in range(len(self.samples)):\n",
        "      self.samples[i] = self.samples[i] - self.samples[i].mean() - 47\n",
        "    self.range = rng\n",
        "    self.n = n\n",
        "    self.batch_size = batch_size\n",
        "\n",
        "    self.resample()\n",
        "\n",
        "  def __getitem__(self, ind):\n",
        "    return self.gen[ind]\n",
        "  def resample(self):\n",
        "    self.gen = []\n",
        "    for i in range(self.n):\n",
        "      new = []\n",
        "      for j in range(self.batch_size):\n",
        "        sample = random.choice(self.samples)\n",
        "        pls    = random.choice(range(sample.shape[2] - 170))\n",
        "        new.append(sample[:,:,pls:pls+161] + random.choice(self.range))\n",
        "      self.gen.append(torch.cat(new))"
      ],
      "execution_count": null,
      "outputs": []
    },
    {
      "cell_type": "markdown",
      "metadata": {
        "id": "HCVzTLzTEhxM"
      },
      "source": [
        "## RandomWordSampler "
      ]
    },
    {
      "cell_type": "code",
      "metadata": {
        "id": "SyGdxu7SizSP"
      },
      "source": [
        "class RandomWordSampler():\n",
        "  def __init__(self, ds, ss, words=None):\n",
        "    \"\"\"RandomWordSampler\n",
        "\n",
        "    Args:\n",
        "    * ds - dataset\n",
        "    * class_names: list - phonetically, list of characters\n",
        "    * words: list - words written phonetically, list of characters\n",
        "\n",
        "    .sample()\n",
        "    .sample_word([list of characters])\n",
        "    \"\"\"\n",
        "    self.ds = ds\n",
        "    self.class_names = [list(IPAString(unicode_string=e)) for e in \"\"\"bɛd bɜːd kæt daʊn eɪt dɒg gəʊ faɪv ˈhæpi fɔː lɛft haʊs\n",
        "                                                                      ɒf naɪn nəʊ marvin sɪks ˈʃiːlə wʌn raɪt ˈsɛvn ɒn θriː tuː\n",
        "                                                                      stɒp triː ʌp jɛs waʊ ˈzɪərəʊ\"\"\".split()]\n",
        "    if words:\n",
        "      self.words = words\n",
        "    else:\n",
        "      self._get_words()\n",
        "\n",
        "    # Letters\n",
        "    self.letters = self._letters_from_dataset(\n",
        "      self.class_names, # [list(s) for s in sorted(os.listdir('./train/audio'))[1:]],\n",
        "      ds.X,\n",
        "      ds.y\n",
        "    )\n",
        "\n",
        "    self.ss = ss\n",
        "\n",
        "  def _move_n(self, im, n):\n",
        "    return F.pad(im, [max(n,0), max(-n,0)], value=-60)[:,:,max(-n,0):im.shape[2]+abs(n)-max(n,0)]\n",
        "\n",
        "  def _move_a2b(self, im, a, b):\n",
        "    return self._move_n(im, b-a)\n",
        "  \n",
        "  def _apply_weight(self, im, place, weight):\n",
        "    \"\"\"\n",
        "    weight has shape of 1,1,im.shape[2] * 2\n",
        "    center of the weight is in the middle\n",
        "    \"\"\"\n",
        "    return im * weight[:,:,im.shape[2]-place:2*im.shape[2]-place]\n",
        "  \n",
        "  def _mix(self, ims, wgs, pls, zero=-70):\n",
        "    return sum([self._apply_weight(ims[i]-zero, pls[i], wgs[i]) for i in range(len(ims))])+zero\n",
        "\n",
        "  def _move_mix(self, ims, wgs, pls, fin_pls, zero=-70):\n",
        "    ims = [self._move_a2b(ims[i], pls[i], fin_pls[i]) for i in range(len(ims))]\n",
        "    return self._mix(ims, wgs, fin_pls, zero)\n",
        "\n",
        "  def _create_weights(self, ims):\n",
        "    seq_len = ims[0].shape[2]\n",
        "    width = seq_len // len(ims)\n",
        "    \n",
        "    wg = torch.Tensor([max(1-abs(i/width),0) for i in range(-seq_len, seq_len)]).unsqueeze(0).unsqueeze(0)\n",
        "    first_wg = copy.deepcopy(wg)\n",
        "    first_wg[:,:,:seq_len] = 1\n",
        "    last_wg = copy.deepcopy(wg)\n",
        "    last_wg[:,:,seq_len:] = 1\n",
        "\n",
        "    return first_wg, wg, last_wg\n",
        "  \n",
        "  def _create(self, ims, pls, start, step, zero=-70):\n",
        "  \n",
        "    # Weights\n",
        "    f, m, l = self._create_weights(ims)\n",
        "    wgs = [f] + [m for i in range(len(ims)-2)] + [l]\n",
        "    \n",
        "    # Final Places\n",
        "    fin_pls = [start + step//2 + step*i for i in range(len(ims))]\n",
        "\n",
        "    assert all(fp < 161 for fp in fin_pls)\n",
        "\n",
        "    return self._move_mix(ims, wgs, pls, fin_pls, zero=zero)\n",
        "\n",
        "  def _find_range(self, img, pad=torch.Tensor([[-10],[20]])):\n",
        "    f = img.mean(1).squeeze()\n",
        "    fmin = f.min()\n",
        "    fmax = f.max()\n",
        "    try:\n",
        "      return list(zip(*((f > 3*(fmax-fmin)/4 + fmin).nonzero()[[0,-1]] + pad).tolist()))[0]\n",
        "    except Exception as e:\n",
        "      print(e)\n",
        "      return -1,-1\n",
        "\n",
        "  def _get_letters_placement(self,p, q, length):\n",
        "    step = (q - p) // length\n",
        "    return [p + step//2 + step*i for i in range(length)]\n",
        "\n",
        "  def _get_audio_info(self, word, im):\n",
        "    p, q = self._find_range(im)\n",
        "    lp = self._get_letters_placement(p, q, len(word))\n",
        "    return list(zip(word,lp)), (p,q)\n",
        "    \n",
        "  def _get_class_info(self, word, X):\n",
        "    pls, rs = list(zip(*[self._get_audio_info(word, X[i]) for i in range(X.shape[0])]))\n",
        "    return pls, rs\n",
        "\n",
        "  def _letters_from_class(self, word, X, ind):\n",
        "    pls, rs = self._get_class_info(word, X[ind])\n",
        "    letters = {w: [] for w in word}\n",
        "    for i in range(len(ind)):\n",
        "      for li, w in enumerate(word):\n",
        "        assert pls[i][li][0] == w\n",
        "        if pls[i][li][1] < 155:\n",
        "          letters[w].append((ind[i], pls[i][li][1], rs[i], len(word)))\n",
        "    return letters\n",
        "  \n",
        "  def _letters_from_dataset(self, class_names, X, y):\n",
        "    letters = {s: [] for s in set(sum(class_names, []))}\n",
        "    for i, cn in tqdm(enumerate(class_names)):\n",
        "      l = self._letters_from_class(cn, X, torch.arange(y.shape[0])[y==i].tolist())\n",
        "      for c in cn:\n",
        "        letters[c] += l[c]\n",
        "    return letters\n",
        "\n",
        "  def _get_words(self):\n",
        "    \"\"\"\n",
        "    Get words from the dataset, that have all sounds available.\n",
        "    \"\"\"\n",
        "\n",
        "    class_names_pho = \"\"\"bɛd bɜːd kæt daʊn eɪt dɒg gəʊ faɪv ˈhæpi fɔː lɛft haʊs\n",
        "                         ɒf naɪn nəʊ marvin sɪks ˈʃiːlə wʌn raɪt ˈsɛvn ɒn θriː tuː\n",
        "                         stɒp triː ʌp jɛs waʊ ˈzɪərəʊ\"\"\".replace('ː', '').split()\n",
        "    available_sounds = set(list(IPAString(unicode_string=''.join(class_names_pho))))\n",
        "\n",
        "    with open('./3000phonetic.txt', 'r') as f:\n",
        "      words = f.read().replace(',', ' ').\\\n",
        "                       replace('ː', '').split()\n",
        "    \n",
        "\n",
        "    words = [w for w in words if is_valid_ipa(w)]\n",
        "    words_IPA = [IPAString(unicode_string=e) for e in words if is_valid_ipa(e)]\n",
        "\n",
        "    # words = [words[i] for i in range(len(words_IPA)) if len(set(list(words_IPA[i])).difference(available_sounds))==0]\n",
        "    whole_words = [list(e) for e in words_IPA if len(set(list(e)).difference(available_sounds))==0]\n",
        "\n",
        "    # words = [w for w in words if len(w)<8]\n",
        "    whole_words = [w for w in whole_words if len(w) < 8]\n",
        "\n",
        "    self.words = whole_words\n",
        "\n",
        "  def sample_word(self, word):\n",
        "    chosen = [random.choice(self.letters[w]) for w in word]\n",
        "\n",
        "    sil   = self.ss.sample()\n",
        "    ims   = [sil] + [self.ds.X[c[0]] for c in chosen] + [sil]\n",
        "    step  = random.choice(range(10,15))\n",
        "    start = random.choice(range(step, sil.shape[2] - (len(ims) + 1) * step))\n",
        "    pls   = [start+step//2] + [int(c[1]) for c in chosen] + [start + step//2 + step * (len(ims) - 1)]\n",
        "\n",
        "    return self._create(ims, pls, start, step, zero=-70)\n",
        "\n",
        "  def sample(self):\n",
        "    return self.sample_word(random.choice(self.words))\n"
      ],
      "execution_count": null,
      "outputs": []
    },
    {
      "cell_type": "code",
      "metadata": {
        "id": "2EbGwKouo5Ay"
      },
      "source": [
        "class Unknown:\n",
        "  def __init__(self, path):\n",
        "    self.path = path\n",
        "    self.files =  os.listdir(self.path)\n",
        "    self.len = len(self.files)\n",
        "\n",
        "  def __len__(self):\n",
        "    return self.len\n",
        "  def __getitem__(self, ind):\n",
        "    return torch.load(self.path + self.files[ind])\n",
        "  def sample(self):\n",
        "    return torch.load(self.path + random.choice(self.files))"
      ],
      "execution_count": null,
      "outputs": []
    },
    {
      "cell_type": "code",
      "metadata": {
        "id": "uZzGIJveAz6D"
      },
      "source": [
        "class UnknownLoaded:\n",
        "  def __init__(self, path='./train/unknown_pt/', n=50):\n",
        "    \n",
        "    self.len = n\n",
        "    self.files = random.sample(os.listdir(path), n)\n",
        "    self.loaded = []\n",
        "    for f in tqdm(self.files):\n",
        "      self.loaded.append(torch.load(path + f))\n",
        "\n",
        "  def __getitem__(self, idx):\n",
        "    return self.X[idx]\n",
        "  \n",
        "  def __len__(self):\n",
        "    return self.len\n",
        "\n",
        "  def sample(self):\n",
        "    l = random.choice(self.loaded)\n",
        "    return l[random.choice(range(l.shape[0]))].unsqueeze(0)"
      ],
      "execution_count": null,
      "outputs": []
    },
    {
      "cell_type": "code",
      "metadata": {
        "id": "Q8skHa4SHOok"
      },
      "source": [
        "class UnknownGenerated:\n",
        "  def __init__(self, rws, batch_size=64, n=100):\n",
        "    self.n = n\n",
        "    self.rws = rws\n",
        "    self.batch_size = batch_size\n",
        "    self.resample()\n",
        "    \n",
        "  def __getitem__(self, idx):\n",
        "    return self.gen[idx]\n",
        "  def __len__(self):\n",
        "    return len(self.gen)\n",
        "  def resample(self):\n",
        "    self.gen = []\n",
        "    print(\"Generating Unknown...\")\n",
        "    for _ in tqdm(range(self.n)):\n",
        "      self.gen.append(torch.cat([self.rws.sample() for _ in range(128)]))"
      ],
      "execution_count": null,
      "outputs": []
    },
    {
      "cell_type": "code",
      "metadata": {
        "id": "gHM0xNLCWO7o"
      },
      "source": [
        "class GeneratedSampler:\n",
        "  def __init__(self, rws, batch_size=64, n=100):\n",
        "    self.n = n\n",
        "    self.rws = rws\n",
        "    self.batch_size = batch_size\n",
        "    self.resample()\n",
        "    \n",
        "  def __getitem__(self, idx):\n",
        "    return self.gen[idx]\n",
        "  def __len__(self):\n",
        "    return len(self.gen)\n",
        "  def resample(self):\n",
        "    self.gen = []\n",
        "    print(\"Generating Unknown...\")\n",
        "    for _ in tqdm(range(self.n)):\n",
        "      self.gen.append(torch.cat([self.rws.sample() for _ in range(128)]))"
      ],
      "execution_count": null,
      "outputs": []
    },
    {
      "cell_type": "markdown",
      "metadata": {
        "id": "7VHAVx_76_Di"
      },
      "source": [
        "# 2. Creating Datasets"
      ]
    },
    {
      "cell_type": "markdown",
      "metadata": {
        "id": "mbHbO-bvD8F5"
      },
      "source": [
        "## Dataset"
      ]
    },
    {
      "cell_type": "code",
      "metadata": {
        "colab": {
          "base_uri": "https://localhost:8080/"
        },
        "id": "jRzZ804k6-rn",
        "outputId": "27ee43d3-bf77-48f0-929b-efa63a58dddd"
      },
      "source": [
        "sds = SavedDataset()"
      ],
      "execution_count": null,
      "outputs": [
        {
          "output_type": "stream",
          "text": [
            "Loading...\n",
            "Loaded!\n"
          ],
          "name": "stdout"
        }
      ]
    },
    {
      "cell_type": "markdown",
      "metadata": {
        "id": "SvOGnPekD-ZB"
      },
      "source": [
        "## Silence Sampler"
      ]
    },
    {
      "cell_type": "code",
      "metadata": {
        "id": "CDUbH5ugDyVF"
      },
      "source": [
        "SS = SilenceSampler(['./train/_background_noise_/' + s for s in os.listdir('./train/_background_noise_/') if '.wav' == s[-4:]])"
      ],
      "execution_count": null,
      "outputs": []
    },
    {
      "cell_type": "markdown",
      "metadata": {
        "id": "POjVrjBnEEhM"
      },
      "source": [
        "## RandomWordSampler"
      ]
    },
    {
      "cell_type": "code",
      "metadata": {
        "id": "OSzXazi8FX9l"
      },
      "source": [
        "RWS = RandomWordSampler(sds, SS)"
      ],
      "execution_count": null,
      "outputs": []
    },
    {
      "cell_type": "markdown",
      "metadata": {
        "id": "szo2RFykucE0"
      },
      "source": [
        "# 3. Models"
      ]
    },
    {
      "cell_type": "markdown",
      "metadata": {
        "id": "Z7gZdJsgYCp6"
      },
      "source": [
        "## Pretrained "
      ]
    },
    {
      "cell_type": "code",
      "metadata": {
        "id": "VxwqCdjmd4Lg"
      },
      "source": [
        "def prepare_model(output_size=12):\n",
        "  m = pretrained_nfnet('F0_haiku.npz')\n",
        "  m.stem.conv0 = WSConv2D(1, 16, kernel_size=(3, 3), stride=(2, 2))\n",
        "  m.linear = torch.nn.Linear(in_features=3072, out_features=output_size, bias=True)\n",
        "  m.train()\n",
        "  return m"
      ],
      "execution_count": null,
      "outputs": []
    },
    {
      "cell_type": "code",
      "metadata": {
        "id": "KRExIH2duf3t"
      },
      "source": [
        "def prepare_model_known():\n",
        "  return prepare_model(10)"
      ],
      "execution_count": null,
      "outputs": []
    },
    {
      "cell_type": "code",
      "metadata": {
        "id": "kyeoG_vqYQXR"
      },
      "source": [
        "def prepare_model_known_unknown():\n",
        "  return prepare_model(1)"
      ],
      "execution_count": null,
      "outputs": []
    },
    {
      "cell_type": "code",
      "metadata": {
        "id": "ODXluW8OEgWu"
      },
      "source": [
        "def prepare_final():\n",
        "  def forward(self, out):\n",
        "    out = self.stem(out)\n",
        "    out = self.body(out)\n",
        "    out = self.activation(self.final_conv(out))\n",
        "    out = torch.mean(out, dim=(2))\n",
        "    out = self.lstm0(out.permute(0,2,1))[0]\n",
        "    out = self.lstm1(out)[1][0].permute(1,0,2)\n",
        "    out = torch.nn.Flatten()(out)\n",
        "    if self.training and self.drop_rate > 0.:\n",
        "      out = self.dropout(out)\n",
        "    out = self.linear(out)\n",
        "    return out\n",
        "  m = pretrained_nfnet('F0_haiku.npz')\n",
        "  m.stem.conv0 = WSConv2D(1, 16, kernel_size=(3, 3), stride=(2, 2))\n",
        "  m.lstm0 = torch.nn.LSTM(3072, 1024, 2, bidirectional=True, batch_first=True)\n",
        "  m.lstm1 = torch.nn.LSTM(2048, 2048, 1, bidirectional=False, batch_first=True)\n",
        "  m.linear = torch.nn.Linear(2048, 12)\n",
        "  m.forward = forward.__get__(m, nfnets.model.NFNet)\n",
        "  m.train()\n",
        "  return m"
      ],
      "execution_count": null,
      "outputs": []
    },
    {
      "cell_type": "markdown",
      "metadata": {
        "id": "hhDFbzCFYMoY"
      },
      "source": [
        "## Non-pretrained"
      ]
    },
    {
      "cell_type": "code",
      "metadata": {
        "id": "b2ZaLoz05UEG"
      },
      "source": [
        "class Permute(torch.nn.Module):\n",
        "  def __init__(self, *args):\n",
        "    super(Permute, self).__init__()\n",
        "    self.args = args\n",
        "  def forward(self, X):\n",
        "    return X.permute(*self.args)"
      ],
      "execution_count": null,
      "outputs": []
    },
    {
      "cell_type": "code",
      "metadata": {
        "id": "Ct1Dji6F-Syv"
      },
      "source": [
        "class Squeeze(torch.nn.Module):\n",
        "  def __init__(self, *args):\n",
        "    super(Squeeze, self).__init__()\n",
        "    self.args = args\n",
        "  def forward(self, X):\n",
        "    return X.squeeze(*self.args)"
      ],
      "execution_count": null,
      "outputs": []
    },
    {
      "cell_type": "code",
      "metadata": {
        "id": "ysoRLH3QHHBE"
      },
      "source": [
        "class GetItem(torch.nn.Module):\n",
        "  def __init__(self, ind):\n",
        "    super(GetItem, self).__init__()\n",
        "    self.ind = ind \n",
        "  def forward(self, X):\n",
        "    return X[self.ind]"
      ],
      "execution_count": null,
      "outputs": []
    },
    {
      "cell_type": "code",
      "metadata": {
        "id": "DmrlyUiyCEKs"
      },
      "source": [
        "class Print(torch.nn.Module):\n",
        "  def __init__(self, *args):\n",
        "    super(Print, self).__init__()\n",
        "    self.args = args\n",
        "  def forward(self, X):\n",
        "    print(*self.args)\n",
        "    return X\n",
        "\n",
        "class PrintShape(torch.nn.Module):\n",
        "  def __init__(self):\n",
        "    super(PrintShape, self).__init__()\n",
        "    pass\n",
        "  def forward(self, X):\n",
        "    print(X.shape)\n",
        "    return X"
      ],
      "execution_count": null,
      "outputs": []
    },
    {
      "cell_type": "code",
      "metadata": {
        "id": "rQQP-DwphAY1"
      },
      "source": [
        "class View(torch.nn.Module):\n",
        "    def __init__(self, shape):\n",
        "        super(View, self).__init__()\n",
        "        self.shape = shape\n",
        "    def forward(self, x):\n",
        "        return x.view(*self.shape)"
      ],
      "execution_count": null,
      "outputs": []
    },
    {
      "cell_type": "code",
      "metadata": {
        "id": "gdYuxLuNoSTt"
      },
      "source": [
        "def m1():\n",
        "  return torch.nn.Sequential(\n",
        "    torch.nn.Conv2d(1, 32, (5,5), stride=(2,2), padding=(2,2)),\n",
        "    # torch.nn.MaxPool2d((2,2)),\n",
        "    torch.nn.SiLU(),\n",
        "    \n",
        "    torch.nn.Conv2d(32, 64, (3,3), padding=(1,1)),\n",
        "    torch.nn.MaxPool2d((2,2)),\n",
        "    torch.nn.SiLU(),\n",
        "    \n",
        "    torch.nn.Conv2d(64, 128, (3,3), padding=(1,1)),\n",
        "    torch.nn.MaxPool2d((2,2)),\n",
        "    torch.nn.SiLU(),\n",
        "    \n",
        "    torch.nn.Conv2d(128, 512, (3,3), padding=(1,1)),\n",
        "    torch.nn.MaxPool2d((2,2)),\n",
        "    torch.nn.SiLU(),\n",
        "\n",
        "    Permute(0,1,3,2),\n",
        "    torch.nn.AdaptiveAvgPool2d((10, 1)),\n",
        "    Squeeze(3),\n",
        "    Permute(0,2,1),\n",
        "    torch.nn.LSTM(512,20,2, bidirectional=True, batch_first=True),\n",
        "    GetItem(0),\n",
        "    torch.nn.Flatten(),\n",
        "    torch.nn.Dropout(0.3),\n",
        "    torch.nn.Linear(400, 100),\n",
        "    torch.nn.SiLU(),\n",
        "    torch.nn.Dropout(0.3),\n",
        "    torch.nn.Linear(100, 30)\n",
        ").train()"
      ],
      "execution_count": null,
      "outputs": []
    },
    {
      "cell_type": "code",
      "metadata": {
        "id": "C3Yqy7H_kkUF"
      },
      "source": [
        "def m_cs():\n",
        "  return torch.nn.Sequential(\n",
        "    torch.nn.Conv2d(1, 128, (5,5), stride=(2,2), padding=(2,2)),\n",
        "    torch.nn.MaxPool2d((2,2)),\n",
        "    torch.nn.SiLU(),\n",
        "    \n",
        "    torch.nn.Conv2d(128, 512, (3,3), padding=(1,1)),\n",
        "    torch.nn.MaxPool2d((2,2)),\n",
        "    torch.nn.SiLU(),\n",
        "\n",
        "    Permute(0,1,3,2),\n",
        "    torch.nn.AdaptiveAvgPool2d((20, 1)), # Longer Sequence\n",
        "    Squeeze(3),\n",
        "    Permute(0,2,1),\n",
        "    torch.nn.LSTM(512,10,2, bidirectional=True, batch_first=True),\n",
        "    GetItem(0),\n",
        "    torch.nn.Flatten(),\n",
        "    torch.nn.Dropout(0.3),\n",
        "    torch.nn.Linear(400, 100),\n",
        "    torch.nn.SiLU(),\n",
        "    torch.nn.Dropout(0.3),\n",
        "    torch.nn.Linear(100, 12)\n",
        ").train()"
      ],
      "execution_count": null,
      "outputs": []
    },
    {
      "cell_type": "code",
      "metadata": {
        "id": "Yx1UKVfIleaQ"
      },
      "source": [
        "def m_cb():\n",
        "  return torch.nn.Sequential(\n",
        "    torch.nn.Conv2d(1, 32, (5,5), stride=(2,2), padding=(2,2)),\n",
        "    # torch.nn.MaxPool2d((2,2)),\n",
        "    torch.nn.SiLU(),\n",
        "    \n",
        "    torch.nn.Conv2d(32, 64, (3,3), padding=(1,1)),\n",
        "    torch.nn.SiLU(),\n",
        "    torch.nn.Conv2d(64, 64, (3,3), padding=(1,1)),\n",
        "    torch.nn.MaxPool2d((2,2)),\n",
        "    torch.nn.SiLU(),\n",
        "    \n",
        "    torch.nn.Conv2d(64, 64, (3,3), padding=(1,1)),\n",
        "    torch.nn.SiLU(),\n",
        "    torch.nn.Conv2d(64, 64, (3,3), padding=(1,1)),\n",
        "    torch.nn.MaxPool2d((2,2)),\n",
        "    torch.nn.SiLU(),\n",
        "    \n",
        "    torch.nn.Conv2d(64, 128, (3,3), padding=(1,1)),\n",
        "    torch.nn.SiLU(),\n",
        "    torch.nn.Conv2d(128, 512, (3,3), padding=(1,1)),\n",
        "    torch.nn.MaxPool2d((2,2)),\n",
        "    torch.nn.SiLU(),\n",
        "\n",
        "    Permute(0,1,3,2),\n",
        "    torch.nn.AdaptiveAvgPool2d((20, 1)), # Longer Sequence\n",
        "    Squeeze(3),\n",
        "    Permute(0,2,1),\n",
        "    torch.nn.LSTM(512,10,2, bidirectional=True, batch_first=True),\n",
        "    GetItem(0),\n",
        "    torch.nn.Flatten(),\n",
        "    torch.nn.Dropout(0.3),\n",
        "    torch.nn.Linear(400, 100),\n",
        "    torch.nn.SiLU(),\n",
        "    torch.nn.Dropout(0.3),\n",
        "    torch.nn.Linear(100, 12)\n",
        ").train()"
      ],
      "execution_count": null,
      "outputs": []
    },
    {
      "cell_type": "code",
      "metadata": {
        "id": "xBRck5FvlKTv"
      },
      "source": [
        "def m_ls():\n",
        "  return torch.nn.Sequential(\n",
        "    torch.nn.Conv2d(1, 32, (5,5), stride=(2,2), padding=(2,2)),\n",
        "    # torch.nn.MaxPool2d((2,2)),\n",
        "    torch.nn.SiLU(),\n",
        "    \n",
        "    torch.nn.Conv2d(32, 64, (3,3), padding=(1,1)),\n",
        "    torch.nn.MaxPool2d((2,2)),\n",
        "    torch.nn.SiLU(),\n",
        "    \n",
        "    torch.nn.Conv2d(64, 128, (3,3), padding=(1,1)),\n",
        "    torch.nn.MaxPool2d((2,2)),\n",
        "    torch.nn.SiLU(),\n",
        "    \n",
        "    torch.nn.Conv2d(128, 512, (3,3), padding=(1,1)),\n",
        "    torch.nn.MaxPool2d((2,2)),\n",
        "    torch.nn.SiLU(),\n",
        "\n",
        "    Permute(0,1,3,2),\n",
        "    torch.nn.AdaptiveAvgPool2d((10, 1)),\n",
        "    Squeeze(3),\n",
        "    Permute(0,2,1),\n",
        "    torch.nn.LSTM(512,20,1, bidirectional=True, batch_first=True),\n",
        "    GetItem(0),\n",
        "    torch.nn.Flatten(),\n",
        "    torch.nn.Dropout(0.3),\n",
        "    torch.nn.Linear(400, 100),\n",
        "    torch.nn.SiLU(),\n",
        "    torch.nn.Dropout(0.3),\n",
        "    torch.nn.Linear(100, 12)\n",
        ").train()"
      ],
      "execution_count": null,
      "outputs": []
    },
    {
      "cell_type": "code",
      "metadata": {
        "id": "Y5DwJrS2nWy4"
      },
      "source": [
        "def m_lb():\n",
        "  return torch.nn.Sequential(\n",
        "    torch.nn.Conv2d(1, 32, (5,5), stride=(2,2), padding=(2,2)),\n",
        "    # torch.nn.MaxPool2d((2,2)),\n",
        "    torch.nn.SiLU(),\n",
        "    \n",
        "    torch.nn.Conv2d(32, 64, (3,3), padding=(1,1)),\n",
        "    torch.nn.MaxPool2d((2,2)),\n",
        "    torch.nn.SiLU(),\n",
        "    \n",
        "    torch.nn.Conv2d(64, 128, (3,3), padding=(1,1)),\n",
        "    torch.nn.MaxPool2d((2,2)),\n",
        "    torch.nn.SiLU(),\n",
        "    \n",
        "    torch.nn.Conv2d(128, 512, (3,3), padding=(1,1)),\n",
        "    torch.nn.MaxPool2d((2,2)),\n",
        "    torch.nn.SiLU(),\n",
        "\n",
        "    Permute(0,1,3,2),\n",
        "    torch.nn.AdaptiveAvgPool2d((10, 1)),\n",
        "    Squeeze(3),\n",
        "    Permute(0,2,1),\n",
        "    torch.nn.LSTM(512,20,4, bidirectional=True, batch_first=True),\n",
        "    GetItem(0),\n",
        "    torch.nn.Flatten(),\n",
        "    torch.nn.Dropout(0.3),\n",
        "    torch.nn.Linear(400, 100),\n",
        "    torch.nn.SiLU(),\n",
        "    torch.nn.Dropout(0.3),\n",
        "    torch.nn.Linear(100, 12)\n",
        ").train()"
      ],
      "execution_count": null,
      "outputs": []
    },
    {
      "cell_type": "code",
      "metadata": {
        "id": "nMU88LJfoojj"
      },
      "source": [
        "def m_lvb(): # very big\n",
        "  return torch.nn.Sequential(\n",
        "    torch.nn.Conv2d(1, 32, (5,5), stride=(2,2), padding=(2,2)),\n",
        "    # torch.nn.MaxPool2d((2,2)),\n",
        "    torch.nn.SiLU(),\n",
        "    \n",
        "    torch.nn.Conv2d(32, 64, (3,3), padding=(1,1)),\n",
        "    torch.nn.MaxPool2d((2,2)),\n",
        "    torch.nn.SiLU(),\n",
        "    \n",
        "    torch.nn.Conv2d(64, 128, (3,3), padding=(1,1)),\n",
        "    torch.nn.MaxPool2d((2,2)),\n",
        "    torch.nn.SiLU(),\n",
        "    \n",
        "    torch.nn.Conv2d(128, 512, (3,3), padding=(1,1)),\n",
        "    torch.nn.MaxPool2d((2,2)),\n",
        "    torch.nn.SiLU(),\n",
        "\n",
        "    Permute(0,1,3,2),\n",
        "    torch.nn.AdaptiveAvgPool2d((10, 1)),\n",
        "    Squeeze(3),\n",
        "    Permute(0,2,1),\n",
        "    torch.nn.LSTM(512,20,8, bidirectional=True, batch_first=True),\n",
        "    GetItem(0),\n",
        "    torch.nn.Flatten(),\n",
        "    torch.nn.Dropout(0.3),\n",
        "    torch.nn.Linear(400, 100),\n",
        "    torch.nn.SiLU(),\n",
        "    torch.nn.Dropout(0.3),\n",
        "    torch.nn.Linear(100, 12)\n",
        ").train()"
      ],
      "execution_count": null,
      "outputs": []
    },
    {
      "cell_type": "code",
      "metadata": {
        "id": "7g6OTzhCno0B"
      },
      "source": [
        "def m_lnb(): # non-bidirectional\n",
        "  return torch.nn.Sequential(\n",
        "    torch.nn.Conv2d(1, 32, (5,5), stride=(2,2), padding=(2,2)),\n",
        "    # torch.nn.MaxPool2d((2,2)),\n",
        "    torch.nn.SiLU(),\n",
        "    \n",
        "    torch.nn.Conv2d(32, 64, (3,3), padding=(1,1)),\n",
        "    torch.nn.MaxPool2d((2,2)),\n",
        "    torch.nn.SiLU(),\n",
        "    \n",
        "    torch.nn.Conv2d(64, 128, (3,3), padding=(1,1)),\n",
        "    torch.nn.MaxPool2d((2,2)),\n",
        "    torch.nn.SiLU(),\n",
        "    \n",
        "    torch.nn.Conv2d(128, 512, (3,3), padding=(1,1)),\n",
        "    torch.nn.MaxPool2d((2,2)),\n",
        "    torch.nn.SiLU(),\n",
        "\n",
        "    Permute(0,1,3,2),\n",
        "    torch.nn.AdaptiveAvgPool2d((10, 1)),\n",
        "    Squeeze(3),\n",
        "    Permute(0,2,1),\n",
        "    torch.nn.LSTM(512,40, 4, bidirectional=False, batch_first=True),\n",
        "    GetItem(0),\n",
        "    torch.nn.Flatten(),\n",
        "    torch.nn.Dropout(0.3),\n",
        "    torch.nn.Linear(400, 100),\n",
        "    torch.nn.SiLU(),\n",
        "    torch.nn.Dropout(0.3),\n",
        "    torch.nn.Linear(100, 12)\n",
        ").train()"
      ],
      "execution_count": null,
      "outputs": []
    },
    {
      "cell_type": "markdown",
      "metadata": {
        "id": "VROFirkQNoWG"
      },
      "source": [
        "# 4. Test Set Preprocessing"
      ]
    },
    {
      "cell_type": "code",
      "metadata": {
        "id": "ft-Bft6Mcrc7"
      },
      "source": [
        "class TestDataset(torch.utils.data.Dataset):\n",
        "  def __init__(self, tr, path_test='../../../MyDrive/test/', select_folder=None):\n",
        "    super(TestDataset, self).__init__()\n",
        "    \n",
        "    self.tr   = tr\n",
        "    self.folders = sorted(os.listdir(path_test))\n",
        "    \n",
        "    if select_folder == None:\n",
        "      self.files = sum([[path_test+n+'/'+f for f in sorted(os.listdir(path_test+n))] for n in self.folders if f.endswith(\".wav\")], [])\n",
        "      self.names = sum([[f for f in sorted(os.listdir(path_test+n))] for n in self.folders if f.endswith(\".wav\")], [])\n",
        "    else:\n",
        "      self.index = select_folder\n",
        "      self.folder = self.folders[select_folder]\n",
        "      self.files = [path_test+self.folder+'/'+f for f in sorted(os.listdir(path_test+self.folder)) if f.endswith(\".wav\")]\n",
        "      self.names = [f for f in sorted(os.listdir(path_test+self.folder)) if f.endswith(\".wav\")]\n",
        "\n",
        "    self.len = len(self.files)\n",
        "\n",
        "\n",
        "  def __len__(self):\n",
        "    return self.len\n",
        "    \n",
        "  def __getitem__(self, idx):\n",
        "      return (self.tr(ta.load(self.files[idx])[0]), self.names[idx] )\n",
        "\n"
      ],
      "execution_count": null,
      "outputs": []
    },
    {
      "cell_type": "code",
      "metadata": {
        "id": "DbmJKZakOT6H"
      },
      "source": [
        "label_classes = {\n",
        "  4 : 'down',\n",
        "  8:  'go',\n",
        "  11: 'left',\n",
        "  14: 'no',\n",
        "  15: 'off',\n",
        "  16: 'on',\n",
        "  18: 'right',\n",
        "  22: 'stop',\n",
        "  26: 'up',\n",
        "  28: 'yes',\n",
        "  29: 'silence',\n",
        "}"
      ],
      "execution_count": null,
      "outputs": []
    },
    {
      "cell_type": "code",
      "metadata": {
        "id": "r5-XlkRu-ofU"
      },
      "source": [
        "test = TestDataset(tr=tr, select_folder=1, path_test=path_test)\n",
        "dl_test = torch.utils.data.DataLoader(test, batch_size=10, shuffle=False)"
      ],
      "execution_count": null,
      "outputs": []
    },
    {
      "cell_type": "code",
      "metadata": {
        "colab": {
          "background_save": true
        },
        "id": "U46A6eRNVxVV"
      },
      "source": [
        "for i in range(10):\n",
        "  print(i)\n",
        "  test = TestDataset(tr=tr, select_folder=i, path_test=path_test)\n",
        "  dl_test = torch.utils.data.DataLoader(test, batch_size=10, shuffle=True)   \n",
        "\n",
        "  \n",
        "  Xs, names = [], []    \n",
        "  for X,name in tqdm(dl_test):\n",
        "    Xs.append(X)\n",
        "    names.append(name)\n",
        "  print(\"Loaded!\")\n",
        "\n",
        "  # Connect\n",
        "  Xs = torch.cat(Xs)\n",
        "  names = np.concatenate(names)\n",
        "\n",
        "  torch.save(Xs, path_save + 'X_%d.pkl' % i)\n",
        "  torch.save(names, path_save + 'names_%d.pkl' % i)\n",
        "\n"
      ],
      "execution_count": null,
      "outputs": []
    },
    {
      "cell_type": "markdown",
      "metadata": {
        "id": "oPpjy2NJc7Ed"
      },
      "source": [
        "#Experimenting"
      ]
    },
    {
      "cell_type": "markdown",
      "metadata": {
        "id": "CjIMc-LKpu7U"
      },
      "source": [
        "## Preparing"
      ]
    },
    {
      "cell_type": "code",
      "metadata": {
        "id": "dfA7Zj_8c9fi"
      },
      "source": [
        "augm = torch.nn.Sequential(\n",
        "  tv.transforms.RandomErasing(p=0.33, scale=(.09, .09), ratio=(8, 8), value=-50), # time masking\n",
        "  tv.transforms.RandomErasing(p=0.33, scale=(0.1, 0.1), ratio=(.1, .1), value=-50), # Frequency Mask\n",
        "  tv.transforms.RandomErasing(p=0.33, scale=(0.05, 0.2), value=-50),\n",
        "  tv.transforms.RandomAffine(5, translate=(0.2,0.05), scale=(0.9, 1.1), fill=-50)\n",
        ")"
      ],
      "execution_count": null,
      "outputs": []
    },
    {
      "cell_type": "code",
      "metadata": {
        "id": "ZwEUWFzjphzG"
      },
      "source": [
        "sd = SupremeDataset()"
      ],
      "execution_count": null,
      "outputs": []
    },
    {
      "cell_type": "code",
      "metadata": {
        "id": "XMweo9bPpm_V"
      },
      "source": [
        "torch.manual_seed(123)\n",
        "train, valid = torch.utils.data.random_split(sd, [len(sd) - len(sd)//10, len(sd)//10])\n",
        "dl_train = torch.utils.data.DataLoader(train, batch_size=128)\n",
        "dl_valid = torch.utils.data.DataLoader(valid, batch_size=128)"
      ],
      "execution_count": null,
      "outputs": []
    },
    {
      "cell_type": "code",
      "metadata": {
        "id": "kpKKUSP5poiE"
      },
      "source": [
        "def training_process( m, EPOCHS=10, lr=0.001, Mode=\"seknown\"):\n",
        "  opt = torch.optim.Adam(m.parameters(), lr, weight_decay=0.0001)\n",
        "  loss = torch.nn.CrossEntropyLoss()\n",
        "\n",
        "  #EPOCHS = 10\n",
        "  pbar = trange(EPOCHS)\n",
        "  train_loss = 0\n",
        "  valid_loss = 0\n",
        "  accuracy   = 0\n",
        "\n",
        "  list_valid_loss = []\n",
        "  list_valid_acc  = []\n",
        "  list_train_loss = []\n",
        "  for e in pbar:\n",
        "\n",
        "    # Train\n",
        "    m.train()\n",
        "    new_train_loss = 0\n",
        "    for X,y in dl_train:\n",
        "      torch.cuda.empty_cache()\n",
        "      \n",
        "      m.zero_grad()\n",
        "\n",
        "      pred = m(augm(X).to('cuda'))\n",
        "\n",
        "      L = loss(pred, y.long().to('cuda'))\n",
        "\n",
        "      L.backward()\n",
        "\n",
        "      opt.step()\n",
        "\n",
        "      new_train_loss += L.item()\n",
        "      pbar.set_description(f'C: {L.item():.3f} L: {train_loss:.3f} V: {valid_loss:.3f} ACC: {accuracy:.3f}')\n",
        "\n",
        "    train_loss = new_train_loss/len(dl_train)\n",
        "    \n",
        "\n",
        "    # Measure Performance\n",
        "    m.eval()\n",
        "    new_valid_loss = 0\n",
        "    new_accuracy   = 0\n",
        "    with torch.no_grad():\n",
        "      for X,y in dl_valid:\n",
        "        \n",
        "        m.zero_grad()\n",
        "\n",
        "        pred = m(X.to('cuda'))\n",
        "        y = y.long().to('cuda')\n",
        "\n",
        "        L = loss(pred, y)\n",
        "\n",
        "        new_valid_loss += L.item()\n",
        "        new_accuracy   += (pred.argmax(1) == y).float().mean()\n",
        "    accuracy   = new_accuracy  /len(dl_valid)\n",
        "    valid_loss = new_valid_loss/len(dl_valid)\n",
        "\n",
        "    list_valid_loss.append(valid_loss)\n",
        "    list_train_loss.append(train_loss)\n",
        "    list_valid_acc.append(accuracy)\n",
        "    # Update Dataset\n",
        "    sd.resample_silence()\n",
        "    sd.resample_unknown(mode=Mode) # to test: seknown, mix, unknown\n",
        "\n",
        "  return (list_valid_loss, list_train_loss, list_valid_acc)"
      ],
      "execution_count": null,
      "outputs": []
    },
    {
      "cell_type": "markdown",
      "metadata": {
        "id": "gdFPO3ODpzbj"
      },
      "source": [
        "## NonPretrained Models"
      ]
    },
    {
      "cell_type": "code",
      "metadata": {
        "id": "oRZ7T2yVqFPX"
      },
      "source": [
        "torch.manual_seed(123)"
      ],
      "execution_count": null,
      "outputs": []
    },
    {
      "cell_type": "code",
      "metadata": {
        "id": "Y81qhax8p4v1"
      },
      "source": [
        "#Training m1\n",
        "for i in range(5):\n",
        "  m=m1().to('cuda')\n",
        "  list_train_loss, list_valid_loss, list_valid_acc = training_process(m, EPOCHS=60, lr=0.0001)\n",
        "  torch.save(m.state_dict(), './trained/nonpretrained_m1_%d.pt' % i)\n",
        "  torch.save( (list_train_loss, list_valid_loss, list_valid_acc) , './trained/iterations_m1_%d.pkl' % i)"
      ],
      "execution_count": null,
      "outputs": []
    },
    {
      "cell_type": "code",
      "metadata": {
        "id": "vld-HaNxq3rZ"
      },
      "source": [
        "#Training m_cs\n",
        "for i in range(5):\n",
        "  m=m_cs().to('cuda')\n",
        "  list_train_loss, list_valid_loss, list_valid_acc = training_process(m, EPOCHS=60, lr=0.00001)\n",
        "  torch.save(m.state_dict(), './trained/nonpretrained_mcs_%d.pt' % i)\n",
        "  torch.save( (list_train_loss, list_valid_loss, list_valid_acc) , './trained/iterations_mcs_%d.pkl' % i)"
      ],
      "execution_count": null,
      "outputs": []
    },
    {
      "cell_type": "code",
      "metadata": {
        "id": "oSy6OGfsqJA6"
      },
      "source": [
        "#Training mcb\n",
        "for i in range(5):\n",
        "  m=m_cb().to('cuda')\n",
        "  list_train_loss, list_valid_loss, list_valid_acc = training_process(m, EPOCHS=60, lr=0.0001)\n",
        "  torch.save(m.state_dict(), './trained/nonpretrained_mcb_%d.pt' % i)\n",
        "  torch.save( (list_train_loss, list_valid_loss, list_valid_acc) , './trained/iterations_mcb_%d.pkl' % i)"
      ],
      "execution_count": null,
      "outputs": []
    },
    {
      "cell_type": "code",
      "metadata": {
        "id": "DBlh9tNeqN8J"
      },
      "source": [
        "#Training m_ls\n",
        "for i in range(5):\n",
        "  m=m_ls().to('cuda')\n",
        "  list_train_loss, list_valid_loss, list_valid_acc = training_process(m, EPOCHS=60, lr=0.0001)\n",
        "  torch.save(m.state_dict(), './trained/nonpretrained_mls_%d.pt' % i)\n",
        "  torch.save( (list_train_loss, list_valid_loss, list_valid_acc) , './trained/iterations_mls_%d.pkl' % i)"
      ],
      "execution_count": null,
      "outputs": []
    },
    {
      "cell_type": "code",
      "metadata": {
        "id": "Xck6bf8IrGgi"
      },
      "source": [
        "#Training m_lb\n",
        "for i in range(5):\n",
        "  m=m_lb().to('cuda')\n",
        "  list_train_loss, list_valid_loss, list_valid_acc = training_process(m, EPOCHS=60, lr=0.0001)\n",
        "  torch.save(m.state_dict(), './trained/nonpretrained_mlb_%d.pt' % i)\n",
        "  torch.save( (list_train_loss, list_valid_loss, list_valid_acc) , './trained/iterations_mlb_%d.pkl' % i)"
      ],
      "execution_count": null,
      "outputs": []
    },
    {
      "cell_type": "code",
      "metadata": {
        "id": "a2EKea2KqeWB"
      },
      "source": [
        "#Training m_lvb\n",
        "for i in range(5):\n",
        "  m=m_lvb().to('cuda')\n",
        "  list_train_loss, list_valid_loss, list_valid_acc = training_process(m, EPOCHS=60, lr=0.0001)\n",
        "  torch.save(m.state_dict(), './trained/nonpretrained_mlvb_%d.pt' % i)\n",
        "  torch.save( (list_train_loss, list_valid_loss, list_valid_acc) , './trained/iterations_mlvb_%d.pkl' % i)"
      ],
      "execution_count": null,
      "outputs": []
    },
    {
      "cell_type": "code",
      "metadata": {
        "id": "c-ng4p9wqTfx"
      },
      "source": [
        "#Training m_lnb\n",
        "for i in range(5):\n",
        "  m=m_lnb().to('cuda')\n",
        "  list_train_loss, list_valid_loss, list_valid_acc = training_process(m, EPOCHS=60, lr=0.0001)\n",
        "  torch.save(m.state_dict(), './trained/nonpretrained_mlnb_%d.pt' % i)\n",
        "  torch.save( (list_train_loss, list_valid_loss, list_valid_acc) , './trained/iterations_mlnb_%d.pkl' % i)"
      ],
      "execution_count": null,
      "outputs": []
    },
    {
      "cell_type": "code",
      "metadata": {
        "id": "FwQ6rqouwkYO"
      },
      "source": [
        "torch.manual_seed(123)\n",
        "#Training m1 \"mix\"\n",
        "for i in range(5):\n",
        "  m=m1().to('cuda')\n",
        "  list_train_loss, list_valid_loss, list_valid_acc = training_process(m, EPOCHS=60, lr=0.0001, Mode='mix')\n",
        "  torch.save(m.state_dict(), './trained/nonpretrained_m1_mix_%d.pt' % i)\n",
        "  torch.save( (list_train_loss, list_valid_loss, list_valid_acc) , './trained/iterations_m1_mix_%d.pkl' % i)"
      ],
      "execution_count": null,
      "outputs": []
    },
    {
      "cell_type": "code",
      "metadata": {
        "id": "sKSz8GBIN_mF"
      },
      "source": [
        "torch.manual_seed(123)\n",
        "#Training m1 \"unknown\"\n",
        "for i in range(5):\n",
        "  m=m1().to('cuda')\n",
        "  list_train_loss, list_valid_loss, list_valid_acc = training_process(m, EPOCHS=60, lr=0.0001, Mode='unknown')\n",
        "  torch.save(m.state_dict(), './trained/nonpretrained_m1_unknown_%d.pt' % i)\n",
        "  torch.save( (list_train_loss, list_valid_loss, list_valid_acc) , './trained/iterations_m1_unknown_%d.pkl' % i)"
      ],
      "execution_count": null,
      "outputs": []
    },
    {
      "cell_type": "markdown",
      "metadata": {
        "id": "XID-xlLarWFV"
      },
      "source": [
        "##Pretrained Model"
      ]
    },
    {
      "cell_type": "code",
      "metadata": {
        "id": "h0u3dP54rYLK"
      },
      "source": [
        "torch.manual_seed(123)\n",
        "#Training final model\n",
        "for i in range(5):\n",
        "  m=prepare_final().to('cuda')\n",
        "  list_train_loss, list_valid_loss, list_valid_acc = training_process(m, EPOCHS=10, lr=0.0001)\n",
        "  torch.save(m.state_dict(), './trained/pretrained_final_%d.pt' % i)\n",
        "  torch.save( (list_train_loss, list_valid_loss, list_valid_acc) , './trained/iterations_prepared_final_%d.pkl' % i)"
      ],
      "execution_count": null,
      "outputs": []
    },
    {
      "cell_type": "markdown",
      "metadata": {
        "id": "AEXQ8pDxXkrz"
      },
      "source": [
        "#Kaggle Test"
      ]
    },
    {
      "cell_type": "code",
      "metadata": {
        "colab": {
          "base_uri": "https://localhost:8080/"
        },
        "id": "xit0TC7jUx--",
        "outputId": "4f166fe4-91c9-4950-b684-b9687a1c53df"
      },
      "source": [
        "m = m1().to('cuda')\n",
        "m.load_state_dict(torch.load('./trained/nonpretrained_m1_unknown_0.pt'))"
      ],
      "execution_count": null,
      "outputs": [
        {
          "output_type": "execute_result",
          "data": {
            "text/plain": [
              "<All keys matched successfully>"
            ]
          },
          "metadata": {
            "tags": []
          },
          "execution_count": 24
        }
      ]
    },
    {
      "cell_type": "code",
      "metadata": {
        "id": "vZjQTaYcQph7"
      },
      "source": [
        "class ProcessedTestDataset(torch.utils.data.Dataset):\n",
        "  def __init__(self, path='./test_processed/'):\n",
        "    super(ProcessedTestDataset, self).__init__()\n",
        "    \n",
        "    path_X = path+'X/'\n",
        "    path_names = path+'names/'\n",
        "\n",
        "    self.folder_x = [ path_X+f for f in sorted(os.listdir(path_X)) ]\n",
        "    self.folder_names = [ path_names +f for f in sorted(os.listdir(path_names)) ]\n",
        "\n",
        "    len = 0\n",
        "    self.lenght = []\n",
        "    for file in self.folder_names:\n",
        "      self.lenght.append(len)\n",
        "      len += torch.load(file).shape[0]\n",
        "    self.len = len\n",
        "\n",
        "    self.current_index = 0\n",
        "    self.X = torch.load(self.folder_x[self.current_index])\n",
        "    self.names = torch.load(self.folder_names[self.current_index])\n",
        "\n",
        "\n",
        "  def __len__(self):\n",
        "    return self.len\n",
        "    \n",
        "  def __getitem__(self, idx):\n",
        "    file_index = [ n for n, i in enumerate(self.lenght) if i <= idx ][-1]\n",
        "    file_position = idx - [ i for n, i in enumerate(self.lenght) if i <= idx ][-1]\n",
        "\n",
        "    if file_index != self.current_index:\n",
        "      self.current_index = file_index\n",
        "      self.X = torch.load(self.folder_x[self.current_index])\n",
        "      self.names = torch.load(self.folder_names[self.current_index])\n",
        "\n",
        "    x = self.X[file_position][0]\n",
        "    return (x.view(1,x.shape[0], x.shape[1]), self.names[file_position] )"
      ],
      "execution_count": null,
      "outputs": []
    },
    {
      "cell_type": "code",
      "metadata": {
        "id": "hIOz7GsLOkve"
      },
      "source": [
        "path_test='./test/'\n",
        "path_save='./test_processed/'"
      ],
      "execution_count": null,
      "outputs": []
    },
    {
      "cell_type": "code",
      "metadata": {
        "id": "ZnOD4eo2QwKf"
      },
      "source": [
        "test = ProcessedTestDataset(path='../../../MyDrive/test_processed/')"
      ],
      "execution_count": null,
      "outputs": []
    },
    {
      "cell_type": "code",
      "metadata": {
        "id": "jqmw1fvTRHUQ"
      },
      "source": [
        "dl_test = torch.utils.data.DataLoader(test, batch_size=100, shuffle=False)"
      ],
      "execution_count": null,
      "outputs": []
    },
    {
      "cell_type": "code",
      "metadata": {
        "id": "IHYkYx3VDoA8"
      },
      "source": [
        "from csv import writer\n",
        "with open('../../../MyDrive/test_results.csv', 'w') as write_obj:\n",
        "  csv_writer = writer(write_obj)\n",
        "  csv_writer.writerow(['fname','label'])"
      ],
      "execution_count": null,
      "outputs": []
    },
    {
      "cell_type": "code",
      "metadata": {
        "id": "GlIOkAtZ6p3P"
      },
      "source": [
        "def append_list_as_row(file_name, classes, names):\n",
        "    with open(file_name, 'a+', newline='') as write_obj:\n",
        "      csv_writer = writer(write_obj)\n",
        "      for i in range(len(classes)):\n",
        "        if '(' not in names[i]:\n",
        "          csv_writer.writerow([names[i], classes[i]])"
      ],
      "execution_count": null,
      "outputs": []
    },
    {
      "cell_type": "code",
      "metadata": {
        "id": "YHLDdRr3L5ZK"
      },
      "source": [
        "label_classes_1 = {\n",
        "  0: 'down',\n",
        "  1: 'go',\n",
        "  2: 'left',\n",
        "  3: 'no',\n",
        "  4: 'off',\n",
        "  5: 'on',\n",
        "  6: 'right',\n",
        "  7: 'stop',\n",
        "  8: 'up',\n",
        "  9: 'yes',\n",
        "  10: 'silence',\n",
        "  11: 'unknown'\n",
        "}"
      ],
      "execution_count": null,
      "outputs": []
    },
    {
      "cell_type": "code",
      "metadata": {
        "colab": {
          "base_uri": "https://localhost:8080/",
          "height": 66,
          "referenced_widgets": [
            "270290ec18c84d15b23b82c5410b690b",
            "fc8ae661f06a40e89d13758697dbdb6d",
            "d1f8ed6f17d14bf8ae27ca3e6632f24d",
            "3b297502bd314175ba511697ccc3d641",
            "f870ca58f21b43dbbd214ddced738d47",
            "c3deb34bdae94987b3dc2ab5b10e4a4b",
            "56da07a5130448e7b9539fcd795e942a",
            "d813134f07594a00b8101b9c8f259f2e"
          ]
        },
        "id": "bLAbv8L0erZm",
        "outputId": "618af9b7-d073-40cf-e15f-9f4a55cddf5d"
      },
      "source": [
        "m.eval()\n",
        "with torch.no_grad():\n",
        "  for X,name in tqdm(dl_test):  \n",
        "    m.zero_grad()\n",
        "\n",
        "    pred = m(X.to('cuda'))\n",
        "    numb = pred.argmax(1).to('cpu')\n",
        "    classes = [label_classes_1[key] for key in np.array(numb)]\n",
        "    append_list_as_row('../../../MyDrive/test_results.csv', classes, name)"
      ],
      "execution_count": null,
      "outputs": [
        {
          "output_type": "display_data",
          "data": {
            "application/vnd.jupyter.widget-view+json": {
              "model_id": "270290ec18c84d15b23b82c5410b690b",
              "version_minor": 0,
              "version_major": 2
            },
            "text/plain": [
              "HBox(children=(FloatProgress(value=0.0, max=1587.0), HTML(value='')))"
            ]
          },
          "metadata": {
            "tags": []
          }
        },
        {
          "output_type": "stream",
          "text": [
            "\n"
          ],
          "name": "stdout"
        }
      ]
    },
    {
      "cell_type": "markdown",
      "metadata": {
        "id": "9JW1nZV96wtv"
      },
      "source": [
        "# Ensemble"
      ]
    },
    {
      "cell_type": "code",
      "metadata": {
        "colab": {
          "base_uri": "https://localhost:8080/"
        },
        "id": "s0xXt9XUfuml",
        "outputId": "e7ba6e6b-30be-406a-e45e-b869ff2bbf5c"
      },
      "source": [
        "m_1 = prepare_final().to('cuda')\n",
        "m_1.load_state_dict(torch.load('./trained/pretrained_final_0.pt'))\n",
        "\n",
        "m_2 = m_cb().to('cuda')\n",
        "m_2.load_state_dict(torch.load('./trained/nonpretrained_mcb_%d.pt' % i))\n",
        "\n",
        "m_3 = m_ls().to('cuda')\n",
        "m_3.load_state_dict(torch.load('./trained/nonpretrained_mls_%d.pt' % i))"
      ],
      "execution_count": null,
      "outputs": [
        {
          "output_type": "execute_result",
          "data": {
            "text/plain": [
              "<All keys matched successfully>"
            ]
          },
          "metadata": {
            "tags": []
          },
          "execution_count": 107
        }
      ]
    },
    {
      "cell_type": "code",
      "metadata": {
        "id": "yFVCnFc_gD7D"
      },
      "source": [
        "from csv import writer\n",
        "with open('../../../MyDrive/test_results.csv', 'w') as write_obj:\n",
        "  csv_writer = writer(write_obj)\n",
        "  csv_writer.writerow(['fname','label'])"
      ],
      "execution_count": null,
      "outputs": []
    },
    {
      "cell_type": "code",
      "metadata": {
        "colab": {
          "base_uri": "https://localhost:8080/",
          "height": 66,
          "referenced_widgets": [
            "8a521b9d772c4e27aadca0d00bcff405",
            "54dd016394b841048b8826c92d4189d0",
            "1f43ad869bd74b5a84ad8e048ef4f204",
            "59f0fe7c2fba44f7bcb5776d70c96af1",
            "5584e97e5137437d818114f1d6dcdbd2",
            "0d2dc21ad55e478094498baa52d352d8",
            "313cf7034bf042569941a678869a97d1",
            "ebf30e65c44e45d2802bdbdf2f2603b3"
          ]
        },
        "id": "ZmkKxOTwgEat",
        "outputId": "d52bf46d-8db8-48c3-b2b8-2b27b80bc13c"
      },
      "source": [
        "m_1.eval()\n",
        "m_2.eval()\n",
        "m_3.eval()\n",
        "\n",
        "with torch.no_grad():\n",
        "  for X,name in tqdm(dl_test):  \n",
        "    m_1.zero_grad()\n",
        "    m_2.zero_grad()\n",
        "    m_3.zero_grad()\n",
        "\n",
        "    pred1 = m_1(X.to('cuda'))\n",
        "    pred2 = m_2(X.to('cuda'))\n",
        "    pred3 = m_3(X.to('cuda'))\n",
        "    stack = torch.stack( (pred1, pred2, pred3) )\n",
        "    pred = torch.mean(stack, axis=0)\n",
        "    numb = pred.argmax(1).to('cpu')\n",
        "    classes = [label_classes_1[key] for key in np.array(numb)]\n",
        "    append_list_as_row('../../../MyDrive/test_results.csv', classes, name)"
      ],
      "execution_count": null,
      "outputs": [
        {
          "output_type": "display_data",
          "data": {
            "application/vnd.jupyter.widget-view+json": {
              "model_id": "8a521b9d772c4e27aadca0d00bcff405",
              "version_minor": 0,
              "version_major": 2
            },
            "text/plain": [
              "HBox(children=(FloatProgress(value=0.0, max=1587.0), HTML(value='')))"
            ]
          },
          "metadata": {
            "tags": []
          }
        },
        {
          "output_type": "stream",
          "text": [
            "\n"
          ],
          "name": "stdout"
        }
      ]
    },
    {
      "cell_type": "markdown",
      "metadata": {
        "id": "16w0pjjqKgP7"
      },
      "source": [
        "#Report Utils"
      ]
    },
    {
      "cell_type": "markdown",
      "metadata": {
        "id": "RO-XBo-uBG86"
      },
      "source": [
        "##Plots"
      ]
    },
    {
      "cell_type": "code",
      "metadata": {
        "id": "wY7ErxoCPHJE"
      },
      "source": [
        "import matplotlib.pyplot as plt\n",
        "reps = 5\n",
        "epochs = 60"
      ],
      "execution_count": null,
      "outputs": []
    },
    {
      "cell_type": "code",
      "metadata": {
        "id": "AjBTKThUKjBV"
      },
      "source": [
        "def plot_statistics(model, base=None, epochs=60):\n",
        "  m_train_loss = np.zeros(epochs)\n",
        "  m_valid_loss = np.zeros(epochs)\n",
        "  m_valid_acc = np.zeros(epochs)\n",
        "  for i in range(reps):\n",
        "      m_list_train_loss, m_list_valid_loss, m_list_valid_acc = torch.load('./trained/iterations_' + model + '_' + str(i) + '.pkl', map_location='cpu')\n",
        "      m_train_loss += m_list_train_loss\n",
        "      m_valid_loss += m_list_valid_loss\n",
        "      m_valid_acc += m_list_valid_acc\n",
        "\n",
        "  m_train_loss = np.array(m_train_loss)/reps\n",
        "  m_valid_loss = np.array(m_valid_loss)/reps\n",
        "  m_valid_acc = np.array(m_valid_acc)/reps\n",
        "\n",
        "  if base:\n",
        "    b_train_loss = np.zeros(epochs)\n",
        "    b_valid_loss = np.zeros(epochs)\n",
        "    b_valid_acc = np.zeros(epochs)\n",
        "    for i in range(reps):\n",
        "      b_list_train_loss, b_list_valid_loss, b_list_valid_acc = torch.load('./trained/iterations_' + base + '_' + str(i) + '.pkl', map_location='cpu')\n",
        "      b_train_loss += b_list_train_loss\n",
        "      b_valid_loss += b_list_valid_loss\n",
        "      b_valid_acc += b_list_valid_acc\n",
        "    b_train_loss = np.array(b_train_loss)/reps\n",
        "    b_valid_loss = np.array(b_valid_loss)/reps\n",
        "    b_valid_acc = np.array(b_valid_acc)/reps\n",
        "\n",
        "\n",
        "  fig, ax1 = plt.subplots()\n",
        "\n",
        "  #ax1.plot(m_train_loss, 'c', label=\"Train Loss\")\n",
        "  ax1.plot(m_valid_loss, 'b', label=\"Validation Loss\")\n",
        "  if base: \n",
        "    #ax1.plot(b_train_loss, 'c--', label=\"Train Loss (base)\")\n",
        "    ax1.plot(b_valid_loss, 'b--', label=\"Validation Loss (base)\")\n",
        "  ax1.set_xlabel('Epochs')\n",
        "  ax1.set_ylabel('Loss', color='b')\n",
        "  handles, labels = ax1.get_legend_handles_labels()\n",
        "  ax1.legend(handles, labels, bbox_to_anchor=(1.5, 1.03))   \n",
        "\n",
        "  ax2 = ax1.twinx()\n",
        "  ax2.plot(m_valid_acc, 'g', label=\"Accuracy\")\n",
        "  if base:\n",
        "    ax2.plot(b_valid_acc, 'g--', label=\"Accuracy (base)\")\n",
        "  ax2.set_ylabel('Accuracy', color='g')\n",
        "  handles, labels = ax2.get_legend_handles_labels()\n",
        "  ax2.legend(handles, labels, bbox_to_anchor=(1.5, 0.86)) \n",
        "  ax2.set_ylim([0, 1])"
      ],
      "execution_count": null,
      "outputs": []
    },
    {
      "cell_type": "code",
      "metadata": {
        "colab": {
          "base_uri": "https://localhost:8080/"
        },
        "id": "VlbSjTQgl4MP",
        "outputId": "0353385c-8885-410d-a3e9-eac3e3fbd8e5"
      },
      "source": [
        "plot_statistics('prepared_final', epochs=20)"
      ],
      "execution_count": null,
      "outputs": [
        {
          "output_type": "display_data",
          "data": {
            "image/png": "[encoded data removed]",
            "text/plain": [
              "<Figure size 432x288 with 2 Axes>"
            ]
          },
          "metadata": {
            "tags": [],
            "needs_background": "light"
          }
        }
      ]
    },
    {
      "cell_type": "code",
      "metadata": {
        "id": "SH-7eoC5NU08",
        "colab": {
          "base_uri": "https://localhost:8080/",
          "height": 283
        },
        "outputId": "c0fcb5d8-eb17-47fe-dc03-94586337b3dd"
      },
      "source": [
        "plot_statistics('m1')"
      ],
      "execution_count": null,
      "outputs": [
        {
          "output_type": "display_data",
          "data": {
            "image/png": "[encoded data removed]",
            "text/plain": [
              "<Figure size 432x288 with 2 Axes>"
            ]
          },
          "metadata": {
            "tags": [],
            "needs_background": "light"
          }
        }
      ]
    },
    {
      "cell_type": "code",
      "metadata": {
        "id": "V2AGVkV6MleJ",
        "colab": {
          "base_uri": "https://localhost:8080/",
          "height": 283
        },
        "outputId": "4e5ddd58-a90d-4479-ef1d-267756b46474"
      },
      "source": [
        "plot_statistics('mcs', base = 'm1')\n"
      ],
      "execution_count": null,
      "outputs": [
        {
          "output_type": "display_data",
          "data": {
            "image/png": "[encoded data removed]",
            "text/plain": [
              "<Figure size 432x288 with 2 Axes>"
            ]
          },
          "metadata": {
            "tags": [],
            "needs_background": "light"
          }
        }
      ]
    },
    {
      "cell_type": "code",
      "metadata": {
        "id": "oXk8aD7LMj_y",
        "colab": {
          "base_uri": "https://localhost:8080/",
          "height": 283
        },
        "outputId": "f62c37e0-4cf7-404b-aa33-e8943d9d1760"
      },
      "source": [
        "plot_statistics('mcb', base = 'm1')"
      ],
      "execution_count": null,
      "outputs": [
        {
          "output_type": "display_data",
          "data": {
            "image/png": "[encoded data removed]",
            "text/plain": [
              "<Figure size 432x288 with 2 Axes>"
            ]
          },
          "metadata": {
            "tags": [],
            "needs_background": "light"
          }
        }
      ]
    },
    {
      "cell_type": "code",
      "metadata": {
        "id": "E4rxv8a1YBZ3",
        "colab": {
          "base_uri": "https://localhost:8080/",
          "height": 283
        },
        "outputId": "3e66e3af-231f-4839-d70b-213fcfcc5254"
      },
      "source": [
        "plot_statistics('mls', base = 'm1')"
      ],
      "execution_count": null,
      "outputs": [
        {
          "output_type": "display_data",
          "data": {
            "image/png": "[encoded data removed]",
            "text/plain": [
              "<Figure size 432x288 with 2 Axes>"
            ]
          },
          "metadata": {
            "tags": [],
            "needs_background": "light"
          }
        }
      ]
    },
    {
      "cell_type": "code",
      "metadata": {
        "id": "VzYcZewbYfik",
        "colab": {
          "base_uri": "https://localhost:8080/",
          "height": 283
        },
        "outputId": "5b1b9b9c-53ae-41e9-c20a-9b3164fa1995"
      },
      "source": [
        "plot_statistics('mlb', base = 'm1')"
      ],
      "execution_count": null,
      "outputs": [
        {
          "output_type": "display_data",
          "data": {
            "image/png": "[encoded data removed]",
            "text/plain": [
              "<Figure size 432x288 with 2 Axes>"
            ]
          },
          "metadata": {
            "tags": [],
            "needs_background": "light"
          }
        }
      ]
    },
    {
      "cell_type": "code",
      "metadata": {
        "id": "5jD5TrClYynm",
        "colab": {
          "base_uri": "https://localhost:8080/",
          "height": 283
        },
        "outputId": "9a9b2751-d42e-48fb-8812-c23153618ae5"
      },
      "source": [
        "plot_statistics('mlnb', base = 'm1')"
      ],
      "execution_count": null,
      "outputs": [
        {
          "output_type": "display_data",
          "data": {
            "image/png": "[encoded data removed]",
            "text/plain": [
              "<Figure size 432x288 with 2 Axes>"
            ]
          },
          "metadata": {
            "tags": [],
            "needs_background": "light"
          }
        }
      ]
    },
    {
      "cell_type": "code",
      "metadata": {
        "id": "iMRJTzkMY70b",
        "colab": {
          "base_uri": "https://localhost:8080/",
          "height": 283
        },
        "outputId": "f1b5bf75-2c17-4756-ea70-c495285b9a71"
      },
      "source": [
        "plot_statistics('mlvb', base = 'm1')"
      ],
      "execution_count": null,
      "outputs": [
        {
          "output_type": "display_data",
          "data": {
            "image/png": "[encoded data removed]",
            "text/plain": [
              "<Figure size 432x288 with 2 Axes>"
            ]
          },
          "metadata": {
            "tags": [],
            "needs_background": "light"
          }
        }
      ]
    },
    {
      "cell_type": "code",
      "metadata": {
        "colab": {
          "base_uri": "https://localhost:8080/",
          "height": 283
        },
        "id": "PeB9VRvVWYsr",
        "outputId": "0151df03-b2fa-461c-c435-27d43708c8ce"
      },
      "source": [
        "plot_statistics('m1_mix', base = 'm1')"
      ],
      "execution_count": null,
      "outputs": [
        {
          "output_type": "display_data",
          "data": {
            "image/png": "[encoded data removed]",
            "text/plain": [
              "<Figure size 432x288 with 2 Axes>"
            ]
          },
          "metadata": {
            "tags": [],
            "needs_background": "light"
          }
        }
      ]
    },
    {
      "cell_type": "code",
      "metadata": {
        "id": "FZu_Hu3CYVbo",
        "colab": {
          "base_uri": "https://localhost:8080/"
        },
        "outputId": "8a5ed231-2d08-442f-d6fa-e942b0fa4076"
      },
      "source": [
        "plot_statistics('m1_unknown', base = 'm1')"
      ],
      "execution_count": null,
      "outputs": [
        {
          "output_type": "display_data",
          "data": {
            "image/png": "[encoded data removed]",
            "text/plain": [
              "<Figure size 432x288 with 2 Axes>"
            ]
          },
          "metadata": {
            "tags": [],
            "needs_background": "light"
          }
        }
      ]
    },
    {
      "cell_type": "markdown",
      "metadata": {
        "id": "65_mwx249-Im"
      },
      "source": [
        "##Confusion Matrix"
      ]
    },
    {
      "cell_type": "code",
      "metadata": {
        "id": "km5GojV99zcY"
      },
      "source": [
        "from sklearn.metrics import confusion_matrix, plot_confusion_matrix\n",
        "import seaborn as sns\n",
        "import matplotlib.pyplot as plt\n",
        "from matplotlib.colors import LogNorm   \n",
        "\n",
        "labels = ['down', 'go',  'left',  'no',  'off',  'on',  'right',  'stop',  'up',  'yes',  'silence','unknown']"
      ],
      "execution_count": null,
      "outputs": []
    },
    {
      "cell_type": "code",
      "metadata": {
        "id": "Sld-ACma-sEZ"
      },
      "source": [
        "sd = SupremeDataset()\n",
        "dl_sd = torch.utils.data.DataLoader(sd, batch_size=100, shuffle=False)"
      ],
      "execution_count": null,
      "outputs": []
    },
    {
      "cell_type": "code",
      "metadata": {
        "colab": {
          "base_uri": "https://localhost:8080/"
        },
        "id": "WvMqgRrhAXEf",
        "outputId": "92d7104b-0ec5-4e52-cf03-2dae2489f6fa"
      },
      "source": [
        "m_1 = m1().to('cuda')\n",
        "m_1.load_state_dict(torch.load('./trained/nonpretrained_m1_0.pt'))\n",
        "\n",
        "m_2 = m1().to('cuda')\n",
        "m_2.load_state_dict(torch.load('./trained/nonpretrained_m1_mix_0.pt'))\n",
        "\n",
        "m_3 = m1().to('cuda')\n",
        "m_3.load_state_dict(torch.load('./trained/nonpretrained_m1_unknown_0.pt'))"
      ],
      "execution_count": null,
      "outputs": [
        {
          "output_type": "execute_result",
          "data": {
            "text/plain": [
              "<All keys matched successfully>"
            ]
          },
          "metadata": {
            "tags": []
          },
          "execution_count": 85
        }
      ]
    },
    {
      "cell_type": "code",
      "metadata": {
        "id": "Zk2vOty4BEsm"
      },
      "source": [
        "m_1.eval()\n",
        "y_pred = []\n",
        "with torch.no_grad():\n",
        "  for X,y in tqdm(dl_sd):  \n",
        "    m_1.zero_grad()\n",
        "\n",
        "    pred = m_1(X.to('cuda'))\n",
        "    numb = pred.argmax(1).to('cpu')\n",
        "    y_pred.append(numb)\n",
        "y_pred = torch.cat(y_pred)\n",
        "cm1 = confusion_matrix(sd.y, y_pred)"
      ],
      "execution_count": null,
      "outputs": []
    },
    {
      "cell_type": "code",
      "metadata": {
        "id": "QXsO_NOhFxP6"
      },
      "source": [
        "m_2.eval()\n",
        "y_pred = []\n",
        "with torch.no_grad():\n",
        "  for X,y in tqdm(dl_sd):  \n",
        "    m_2.zero_grad()\n",
        "\n",
        "    pred = m_2(X.to('cuda'))\n",
        "    numb = pred.argmax(1).to('cpu')\n",
        "    y_pred.append(numb)\n",
        "y_pred = torch.cat(y_pred)\n",
        "cm2 = confusion_matrix(sd.y, y_pred)"
      ],
      "execution_count": null,
      "outputs": []
    },
    {
      "cell_type": "code",
      "metadata": {
        "id": "To5NHLiYF5o3"
      },
      "source": [
        "m_3.eval()\n",
        "y_pred = []\n",
        "with torch.no_grad():\n",
        "  for X,y in tqdm(dl_sd):  \n",
        "    m_3.zero_grad()\n",
        "\n",
        "    pred = m_3(X.to('cuda'))\n",
        "    numb = pred.argmax(1).to('cpu')\n",
        "    y_pred.append(numb)\n",
        "y_pred = torch.cat(y_pred)\n",
        "cm3 = confusion_matrix(sd.y, y_pred)"
      ],
      "execution_count": null,
      "outputs": []
    },
    {
      "cell_type": "code",
      "metadata": {
        "colab": {
          "base_uri": "https://localhost:8080/"
        },
        "id": "awfaZkvzEC5j",
        "outputId": "0ad87c40-34fb-4480-bd3d-482ec5b41c89"
      },
      "source": [
        "ax= plt.subplot()  \n",
        "import copy\n",
        "my_cmap = copy.copy(plt.cm.get_cmap('magma'))\n",
        "my_cmap.set_bad(my_cmap.colors[0])\n",
        "sns.heatmap(cm, annot=True, fmt='g', ax=ax, norm=LogNorm(1,3000), cmap=my_cmap)\n",
        "ax.xaxis.set_ticklabels(labels, rotation = 90);\n",
        "ax.yaxis.set_ticklabels(labels, rotation = 0);\n"
      ],
      "execution_count": null,
      "outputs": [
        {
          "output_type": "display_data",
          "data": {
            "image/png": "[encoded data removed]",
            "text/plain": [
              "<Figure size 432x288 with 2 Axes>"
            ]
          },
          "metadata": {
            "tags": [],
            "needs_background": "light"
          }
        }
      ]
    },
    {
      "cell_type": "code",
      "metadata": {
        "colab": {
          "base_uri": "https://localhost:8080/"
        },
        "id": "Io27s8RUGEii",
        "outputId": "7cbe2ff7-769a-4c4f-f5a3-125aa7ae3084"
      },
      "source": [
        "ax= plt.subplot()  \n",
        "import copy\n",
        "my_cmap = copy.copy(plt.cm.get_cmap('magma'))\n",
        "my_cmap.set_bad(my_cmap.colors[0])\n",
        "sns.heatmap(cm2, annot=True, fmt='g', ax=ax, norm=LogNorm(1,3000), cmap=my_cmap)\n",
        "ax.xaxis.set_ticklabels(labels, rotation = 90);\n",
        "ax.yaxis.set_ticklabels(labels, rotation = 0);"
      ],
      "execution_count": null,
      "outputs": [
        {
          "output_type": "display_data",
          "data": {
            "image/png": "[encoded data removed]",
            "text/plain": [
              "<Figure size 432x288 with 2 Axes>"
            ]
          },
          "metadata": {
            "tags": [],
            "needs_background": "light"
          }
        }
      ]
    },
    {
      "cell_type": "code",
      "metadata": {
        "colab": {
          "base_uri": "https://localhost:8080/"
        },
        "id": "PyoclImjGE_b",
        "outputId": "9587ee42-b784-4589-fddc-8ceda1d611b4"
      },
      "source": [
        "ax= plt.subplot()  \n",
        "import copy\n",
        "my_cmap = copy.copy(plt.cm.get_cmap('magma'))\n",
        "my_cmap.set_bad(my_cmap.colors[0])\n",
        "sns.heatmap(cm3, annot=True, fmt='g', ax=ax, norm=LogNorm(1,3000), cmap=my_cmap)\n",
        "ax.xaxis.set_ticklabels(labels, rotation = 90);\n",
        "ax.yaxis.set_ticklabels(labels, rotation = 0);"
      ],
      "execution_count": null,
      "outputs": [
        {
          "output_type": "display_data",
          "data": {
            "image/png": "[encoded data removed]",
            "text/plain": [
              "<Figure size 432x288 with 2 Axes>"
            ]
          },
          "metadata": {
            "tags": [],
            "needs_background": "light"
          }
        }
      ]
    }
  ]
}